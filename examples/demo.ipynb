{
 "cells": [
  {
   "cell_type": "markdown",
   "metadata": {
    "collapsed": true
   },
   "source": [
    "# A demo of code completion tasks on a Ruby dataset\n",
    "\n",
    "Dataset: Ruby dataset of CodeXGLUE[Feng et. al.](https://arxiv.org/pdf/2002.08155.pdf)\n",
    "Model: SeqRNN"
   ]
  },
  {
   "cell_type": "markdown",
   "metadata": {},
   "source": [
    "## Step 1. Download dataset.\n",
    "\n",
    "Run [download.sh](dataset/codesearchnet_feng/download.sh) to download the CodeXGLUE dataset.\n",
    "\n",
    "```shell\n",
    "bash dataset/codesearchnet_feng/download.sh\n",
    "```\n"
   ]
  },
  {
   "cell_type": "markdown",
   "source": [
    "## Step 2. Pre-processing dataset and save it into MMAP format"
   ],
   "metadata": {
    "collapsed": false,
    "pycharm": {
     "name": "#%% md\n"
    }
   }
  },
  {
   "cell_type": "code",
   "execution_count": null,
   "outputs": [],
   "source": [],
   "metadata": {
    "collapsed": false,
    "pycharm": {
     "name": "#%%\n"
    }
   }
  }
 ],
 "metadata": {
  "kernelspec": {
   "display_name": "Python 3 (ipykernel)",
   "language": "python",
   "name": "python3"
  },
  "language_info": {
   "codemirror_mode": {
    "name": "ipython",
    "version": 3
   },
   "file_extension": ".py",
   "mimetype": "text/x-python",
   "name": "python",
   "nbconvert_exporter": "python",
   "pygments_lexer": "ipython3",
   "version": "3.7.10"
  }
 },
 "nbformat": 4,
 "nbformat_minor": 1
}